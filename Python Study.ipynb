{
 "cells": [
  {
   "attachments": {},
   "cell_type": "markdown",
   "metadata": {},
   "source": [
    "# Resumen de Python por Barnés"
   ]
  },
  {
   "attachments": {},
   "cell_type": "markdown",
   "metadata": {},
   "source": [
    "## 🔤Definiciones\n",
    "---\n",
    "- **Iterabilidad:** un objeto que permite a las estructuras de control de bucle recorrer sus elementos.\n",
    "- **Mutabilidad:** un objeto que permite ser cambiado o cambiar sus definiciones internas -ya sean elementos, propiedades-.\n",
    "- **Inmutabilidad:** un objeto que, una vez instanciado, no puede ser cambiado su valor o definiciones internas.\n",
    "- **Heterogeneidad:** un objeto que puede permitir almacenar valores de distintos tipos.\n",
    "- **Homogeneidad:** un objeto que solo puede almacenar valores de un solo tipo."
   ]
  },
  {
   "attachments": {},
   "cell_type": "markdown",
   "metadata": {},
   "source": [
    "## 🗃️Estructuras de datos"
   ]
  },
  {
   "attachments": {},
   "cell_type": "markdown",
   "metadata": {},
   "source": [
    "### 🟥Sets\n",
    "Un set en Python es una estructura de datos que guarda una colección no ordenada de elementos únicos. \n",
    "\n",
    "Puedes pensar en un set como una versión más avanzada de una lista, ya que ambos almacenan colecciones de elementos. Sin embargo, un set difiere de una lista en dos aspectos principales:\n",
    "\n",
    "- Un set no mantiene un orden de los elementos que contiene.\n",
    "- Un set no permite elementos duplicados; solo se puede incluir cada elemento una vez.\n",
    "\n",
    "![](set_example.png)"
   ]
  },
  {
   "cell_type": "code",
   "execution_count": 1,
   "metadata": {},
   "outputs": [
    {
     "name": "stdout",
     "output_type": "stream",
     "text": [
      "Gran está en el set\n",
      "{'Si', 'te', 'esfuerzas', 'apruebas'}\n"
     ]
    }
   ],
   "source": [
    "# En Python, un set se representa como una serie de elementos separados por comas dentro de llaves {}. \n",
    "# El siguiente código crea un set con cuatro elementos:\n",
    "\n",
    "example_set = {\"Gran\", \"día\", \"para\", \"aprobar\"}\n",
    "\n",
    "# Las mayores ventajas de usar los sets en vez de las listas es que son objetos optimizados para comprobar si un elemento\n",
    "# está dentro del set.\n",
    "\n",
    "# Puedes acceder a los elementos de un set utilizando ciclos for o usando la palabra clave \"in\" para comprobar \n",
    "# si un elemento específico está presente.\n",
    "\n",
    "if \"Gran\" in example_set:\n",
    "    print(\"Gran está en el set\")\n",
    "\n",
    "# Para convertir una lista en set se usa el método set como casteo.\n",
    "myset = set([\"Si\", \"te\", \"esfuerzas\", \"apruebas\"])\n",
    "print(myset)"
   ]
  },
  {
   "attachments": {},
   "cell_type": "markdown",
   "metadata": {},
   "source": [
    "Como es un contenedor de elementos desordenados no podemos saber cuál es el órden original del mismo."
   ]
  },
  {
   "cell_type": "code",
   "execution_count": 2,
   "metadata": {},
   "outputs": [
    {
     "name": "stdout",
     "output_type": "stream",
     "text": [
      "{'y', 'Estudiar', 'consumir', 'alcohol'}\n"
     ]
    }
   ],
   "source": [
    "example_set = set([\"Estudiar\", \"y\", \"consumir\", \"alcohol\"])\n",
    "print(example_set)"
   ]
  },
  {
   "attachments": {},
   "cell_type": "markdown",
   "metadata": {},
   "source": [
    "Los sets en Python no pueden tener valores duplicados, en el caso de que se le asigne un valor duplicado,\n",
    "el set resultante solo alojará una sola coincidencia."
   ]
  },
  {
   "cell_type": "code",
   "execution_count": 7,
   "metadata": {},
   "outputs": [
    {
     "name": "stdout",
     "output_type": "stream",
     "text": [
      "{'vamos', 'estudia'}\n"
     ]
    }
   ],
   "source": [
    "example_set = {\"vamos\", \"vamos\", \"estudia\"}\n",
    "print(example_set)"
   ]
  },
  {
   "attachments": {},
   "cell_type": "markdown",
   "metadata": {},
   "source": [
    "Los valores en un set, una vez definidos, no pueden ser cambiados."
   ]
  },
  {
   "cell_type": "code",
   "execution_count": 4,
   "metadata": {},
   "outputs": [
    {
     "ename": "TypeError",
     "evalue": "'set' object does not support item assignment",
     "output_type": "error",
     "traceback": [
      "\u001b[1;31m---------------------------------------------------------------------------\u001b[0m",
      "\u001b[1;31mTypeError\u001b[0m                                 Traceback (most recent call last)",
      "Cell \u001b[1;32mIn[4], line 1\u001b[0m\n\u001b[1;32m----> 1\u001b[0m example_set[\u001b[39m1\u001b[39;49m] \u001b[39m=\u001b[39m \u001b[39m\"\u001b[39m\u001b[39mCandela, hermano\u001b[39m\u001b[39m\"\u001b[39m\n\u001b[0;32m      2\u001b[0m \u001b[39mprint\u001b[39m(example_set)\n",
      "\u001b[1;31mTypeError\u001b[0m: 'set' object does not support item assignment"
     ]
    }
   ],
   "source": [
    "example_set[1] = \"Candela, hermano\"\n",
    "print(example_set)"
   ]
  },
  {
   "attachments": {},
   "cell_type": "markdown",
   "metadata": {},
   "source": [
    "#### Métodos más comunes con los sets:"
   ]
  },
  {
   "cell_type": "code",
   "execution_count": 9,
   "metadata": {},
   "outputs": [
    {
     "name": "stdout",
     "output_type": "stream",
     "text": [
      "Asignaturas: {'Matemática II', 'Programación II', 'Matemática Discreta'}\n",
      "Asignaturas: {'Matemática II', 'Inteligencia artificial', 'Programación II', 'Matemática Discreta'}\n"
     ]
    }
   ],
   "source": [
    "# add(object) permite añadir un elemento al set (si el elemento coincide con uno ya dentro del set, no se añade),\n",
    "# donde object es el elemento a querer añadir.\n",
    "assignatures = {\"Matemática II\", \"Matemática Discreta\", \"Programación II\"}\n",
    "\n",
    "print(\"Asignaturas:\", assignatures)\n",
    "\n",
    "assignatures.add(\"Inteligencia artificial\")\n",
    "\n",
    "print(\"Asignaturas:\", assignatures)"
   ]
  },
  {
   "cell_type": "code",
   "execution_count": 8,
   "metadata": {},
   "outputs": [
    {
     "name": "stdout",
     "output_type": "stream",
     "text": [
      "Asignaturas: {'Matemática II', 'Programación II', 'Matemática Discreta'}\n",
      "Asignaturas: {'Matemática II', 'Programación II'}\n"
     ]
    }
   ],
   "source": [
    "# remove(object) permite remover un elemento del set, siendo object el objeto a ser eliminado,\n",
    "# emite un error KeyError en caso de que se quiera eliminar un elemento que no se encuentra\n",
    "# dentro del set.\n",
    "assignatures = {\"Matemática II\", \"Matemática Discreta\", \"Programación II\"}\n",
    "\n",
    "print(\"Asignaturas:\", assignatures)\n",
    "\n",
    "assignatures.remove(\"Matemática Discreta\")\n",
    "\n",
    "print(\"Asignaturas:\", assignatures)"
   ]
  },
  {
   "cell_type": "code",
   "execution_count": 10,
   "metadata": {},
   "outputs": [],
   "source": [
    "# discard(object) permite también remover un elemento del set, pero no lanzará un error en caso de que\n",
    "# no se encuentre el elemento...\n",
    "assignatures.discard(\"Inteligencia artificial\")"
   ]
  },
  {
   "cell_type": "code",
   "execution_count": 11,
   "metadata": {},
   "outputs": [
    {
     "name": "stdout",
     "output_type": "stream",
     "text": [
      "El contenido del set antes de eliminar todos sus elementos\n",
      "{1, 2, 3, 4, 5, 6}\n",
      "El contenido del set luego de usar el método clear()\n",
      "set()\n"
     ]
    }
   ],
   "source": [
    "# discard(object) permite también remover un elemento del set, pero no lanzará un error en caso de que\n",
    "# no se encuentre el elemento...\n",
    "number_set = {1, 2, 3, 4, 5, 6}\n",
    "print(\"El contenido del set antes de eliminar todos sus elementos\")\n",
    "print(number_set)\n",
    "\n",
    "number_set.clear()\n",
    "\n",
    "print(\"El contenido del set luego de usar el método clear()\")\n",
    "print(number_set)"
   ]
  },
  {
   "attachments": {},
   "cell_type": "markdown",
   "metadata": {},
   "source": [
    "#### Operadores con los sets"
   ]
  },
  {
   "cell_type": "code",
   "execution_count": 12,
   "metadata": {},
   "outputs": [
    {
     "name": "stdout",
     "output_type": "stream",
     "text": [
      "Usando el método union()\n",
      "{'Arjun', 'Jay', 'Karan', 'Archil', 'Idrish'}\n",
      "Usando el método '|'\n",
      "{'Arjun', 'Jay', 'Karan', 'Archil', 'Idrish'}\n"
     ]
    }
   ],
   "source": [
    "# Operador de unión: Dos sets pueden ser unidos a través del método union() o el operador |.\n",
    "\n",
    "people = {\"Jay\", \"Idrish\", \"Archil\"}\n",
    "vampires = {\"Karan\", \"Arjun\"}\n",
    "\n",
    "# union(object) permite unir un set a otro.\n",
    "population = people.union(vampires)\n",
    "\n",
    "print(\"Usando el método union()\")\n",
    "print(population)\n",
    "\n",
    "# Union usando el operador \"|\"\n",
    "population = people | vampires\n",
    "\n",
    "print(\"Usando el método '|'\")\n",
    "print(population)"
   ]
  },
  {
   "cell_type": "code",
   "execution_count": 14,
   "metadata": {},
   "outputs": [
    {
     "name": "stdout",
     "output_type": "stream",
     "text": [
      "Intersección usando el método intersection(object)\n",
      "{3, 4}\n",
      "Intersección usando el operador '&'\n",
      "{3, 4}\n"
     ]
    }
   ],
   "source": [
    "# Operador de intersección: dos sets pueden ser intersectados (escoger sus elementos comunes) \n",
    "# a través del método intersection(object) o el operador '&'\n",
    "set1 = {1, 2, 3, 4}\n",
    "set2 = {3, 4, 5, 6, 7}\n",
    "\n",
    "# Intersección usando el método intersection(object)\n",
    "set_intersection = set1.intersection(set2)\n",
    "\n",
    "print(\"Intersección usando el método intersection(object)\")\n",
    "print(set_intersection)\n",
    "\n",
    "# Intersección usando el operador '&'\n",
    "set_intersection = set1 & set2\n",
    "\n",
    "print(\"Intersección usando el operador '&'\")\n",
    "print(set_intersection)"
   ]
  },
  {
   "cell_type": "code",
   "execution_count": 15,
   "metadata": {},
   "outputs": [
    {
     "name": "stdout",
     "output_type": "stream",
     "text": [
      "Intersección usando el método difference(object) del primer set al segundo\n",
      "{1, 2}\n",
      "Intersección usando el método difference(object) del segundo set al primero\n",
      "{5, 6, 7}\n",
      "Diferencia usando el operador '-' del primer set al segundo\n",
      "{1, 2}\n",
      "Diferencia usando el operador '-' del segundo set al primero\n",
      "{5, 6, 7}\n"
     ]
    }
   ],
   "source": [
    "# Operador de diferencia: se puede calcular la diferencia entre dos sets\n",
    "# (escoger los elementos que están en el primero que no esten en el segundo) \n",
    "# a través del método difference(object) o el operador '-'\n",
    "set1 = {1, 2, 3, 4}\n",
    "set2 = {3, 4, 5, 6, 7}\n",
    "\n",
    "# Intersección usando el método difference(object) del primer set al segundo\n",
    "set_intersection = set1.difference(set2)\n",
    "\n",
    "print(\"Intersección usando el método difference(object) del primer set al segundo\")\n",
    "print(set_intersection)\n",
    "\n",
    "# Intersección usando el método difference(object) del segundo set al primero\n",
    "set_intersection = set2.difference(set1)\n",
    "\n",
    "print(\"Intersección usando el método difference(object) del segundo set al primero\")\n",
    "print(set_intersection)\n",
    "\n",
    "# Diferencia usando el operador '-' del primer set al segundo\n",
    "set_intersection = set1 - set2\n",
    "\n",
    "print(\"Diferencia usando el operador '-' del primer set al segundo\")\n",
    "print(set_intersection)\n",
    "\n",
    "# Diferencia usando el operador '-' del segundo set al primero\n",
    "set_intersection = set2 - set1\n",
    "\n",
    "print(\"Diferencia usando el operador '-' del segundo set al primero\")\n",
    "print(set_intersection)"
   ]
  },
  {
   "attachments": {},
   "cell_type": "markdown",
   "metadata": {},
   "source": [
    "#### Limitaciones al usar los sets\n",
    "- Los sets no tienen sus elementos en algún orden en particular.\n",
    "- Solo permite alojar elementos de tipo inmutable."
   ]
  },
  {
   "attachments": {},
   "cell_type": "markdown",
   "metadata": {},
   "source": [
    "### 🟧Tuples (Tuplas)\n",
    "Una \"tupla\" es una estructura de datos similar a una lista y con elementos heterogéneos, pero con la particularidad de que sus elementos son inmutables. \n",
    "\n",
    "Es decir, una vez que se ha creado una tupla, no se pueden agregar, eliminar o cambiar sus valores. \n",
    "\n",
    "Mantienen el orden en el que son agregados.\n",
    "\n",
    "![](tuple_example.png)"
   ]
  },
  {
   "attachments": {},
   "cell_type": "markdown",
   "metadata": {},
   "source": [
    "#### Definición\n",
    "Las tuplas se definen utilizando paréntesis `()`."
   ]
  },
  {
   "cell_type": "code",
   "execution_count": 16,
   "metadata": {},
   "outputs": [],
   "source": [
    "my_tuple = (1, 'hi', 'leche condensada')"
   ]
  },
  {
   "attachments": {},
   "cell_type": "markdown",
   "metadata": {},
   "source": [
    "#### Accediendo a los elementos de la tupla\n",
    "Para acceder a los elementos de una tupla, se utiliza la misma sintaxis que para las listas, es decir, se indican los índices (empezando desde cero) dentro de corchetes."
   ]
  },
  {
   "cell_type": "code",
   "execution_count": 17,
   "metadata": {},
   "outputs": [
    {
     "name": "stdout",
     "output_type": "stream",
     "text": [
      "Imprimiendo el valor del elemento 1 en la tupla:  hi\n"
     ]
    }
   ],
   "source": [
    "# Por ejemplo, para acceder al segundo elemento de la tupla anterior, podemos utilizar el siguiente código:\n",
    "print(\"Imprimiendo el valor del elemento 1 en la tupla: \", my_tuple[1])"
   ]
  },
  {
   "attachments": {},
   "cell_type": "markdown",
   "metadata": {},
   "source": [
    "#### Utilidad\n",
    "Las tuplas son útiles cuando se desea tener una colección de elementos que no se necesitan cambiar o cuya modificación no es deseable. Además, a menudo son más eficientes que las listas. No obstante, hay que tener en cuenta que las tuplas no son variables dinámicas, lo que las hace menos flexibles que las listas en algunas situaciones."
   ]
  },
  {
   "attachments": {},
   "cell_type": "markdown",
   "metadata": {},
   "source": [
    "### 🟨Lists (Listas)\n",
    "Es un tipo de arreglo de tamaño dinámico, una colección que puede contener elementos heterogéneos. Son mutables, pueden ser modificadas incluso luego de su instanciación y permite elementos duplicados."
   ]
  },
  {
   "cell_type": "code",
   "execution_count": 18,
   "metadata": {},
   "outputs": [
    {
     "name": "stdout",
     "output_type": "stream",
     "text": [
      "[]\n",
      "['Gran', 'día', 'para', 'aprobar']\n",
      "['esfuerzas', 'apruebas', 'te', 'Si']\n"
     ]
    }
   ],
   "source": [
    "# Las listas en Python se instancian usando los [ ] y se almacenan los valores internos separados por comas.\n",
    "\n",
    "empty_list = []\n",
    "print(empty_list)\n",
    "\n",
    "list_example = [\"Gran\", \"día\", \"para\", \"aprobar\"]\n",
    "print(list_example)\n",
    "\n",
    "# Para convertir un set en lista se usa el método list como casteo.\n",
    "list_converted = list({\"Si\", \"te\", \"esfuerzas\", \"apruebas\"})\n",
    "print(list_converted)"
   ]
  },
  {
   "attachments": {},
   "cell_type": "markdown",
   "metadata": {},
   "source": [
    "#### Elementos duplicados\n",
    "Las listas pueden contener elementos duplicados."
   ]
  },
  {
   "cell_type": "code",
   "execution_count": null,
   "metadata": {},
   "outputs": [
    {
     "name": "stdout",
     "output_type": "stream",
     "text": [
      "Una lista numérica con elementos duplicados: \n",
      "[1, 2, 4, 4, 3, 3, 3, 6, 5]\n",
      "Una lista heterogénea con valores duplicados: \n",
      "[1, 2, 'Hola', 4, 'Candela', 6, 'Durísimo']\n"
     ]
    }
   ],
   "source": [
    "# Creando una lista con elementos numéricos duplicados...\n",
    "duplicated_number_list = [1, 2, 4, 4, 3, 3, 3, 6, 5]\n",
    "print(\"Una lista numérica con elementos duplicados: \")\n",
    "print(duplicated_number_list)\n",
    "\n",
    "# Creando un lista heterogénea con valores duplicados...\n",
    "duplicated_heterogeneous_list = [1, 2, 'Hola', 4, 'Candela', 6, 'Durísimo']\n",
    "print(\"Una lista heterogénea con valores duplicados: \")\n",
    "print(duplicated_heterogeneous_list)"
   ]
  },
  {
   "attachments": {},
   "cell_type": "markdown",
   "metadata": {},
   "source": [
    "#### Tamaño de una lista\n",
    "Para saber la cantidad de elementos de una lista se usa el método `len(list)`, donde list es la lista la cual se quiere saber la cantidad de elementos."
   ]
  },
  {
   "cell_type": "code",
   "execution_count": 19,
   "metadata": {},
   "outputs": [
    {
     "name": "stdout",
     "output_type": "stream",
     "text": [
      "La lista [] tiene 0 elementos...\n",
      "La lista [10, 20, 14] tiene 3 elementos...\n"
     ]
    }
   ],
   "source": [
    "# Creando una lista vacía\n",
    "list1 = []\n",
    "print(f'La lista {list1} tiene {len(list1)} elementos...')\n",
    "  \n",
    "# Creando una lista de números\n",
    "list2 = [10, 20, 14]\n",
    "print(f'La lista {list2} tiene {len(list2)} elementos...')\n",
    "\n",
    "# IMPORTANTE: NO CONFUNDIR TAMAÑO DE ELEMENTOS CON ÍNDICE DE LAS LISTAS..."
   ]
  },
  {
   "attachments": {},
   "cell_type": "markdown",
   "metadata": {},
   "source": [
    "#### Accediendo a elementos de una lista\n",
    "Para acceder a un elemento de una lista los items están atados a un índice, donde el primer elemento de la lista comienza con índice 0 y así sucesivamente...\n",
    "\n",
    "Usa el operador [] para esta tarea, colocando dentro de estos el número de índice del elemento a obtener de la lista."
   ]
  },
  {
   "cell_type": "code",
   "execution_count": 8,
   "metadata": {},
   "outputs": [
    {
     "name": "stdout",
     "output_type": "stream",
     "text": [
      "Accediendo a elementos específicos de la lista usando un número de índice: \n",
      "Hay\n",
      "estudiar\n"
     ]
    }
   ],
   "source": [
    "example_list = [\"Hay\", \"que\", \"estudiar\"]\n",
    "  \n",
    "print(\"Accediendo a elementos específicos de la lista usando un número de índice: \")\n",
    "print(example_list[0])\n",
    "print(example_list[2])"
   ]
  },
  {
   "attachments": {},
   "cell_type": "markdown",
   "metadata": {},
   "source": [
    "#### Índices negativos\n",
    "Los índices negativos representan posiciones desde el final de la lista, así que en vez de acceder al penúltimo elemento de una lista usando `list[len(list)-2]`, simplemente tendrías que escribir `list[-2]`.\n",
    "\n",
    "El índice negativo significa comenzar desde el final, -1 te devolvería el último elemento, -2 el penúltimo y así sucesivamente..."
   ]
  },
  {
   "cell_type": "code",
   "execution_count": 9,
   "metadata": {},
   "outputs": [
    {
     "name": "stdout",
     "output_type": "stream",
     "text": [
      "El antepenúltimo elemento\n",
      "antepenúltimo\n"
     ]
    }
   ],
   "source": [
    "# Creando una lista con elementos numéricos duplicados...\n",
    "duplicated_number_list = ['primero', 'segundo', 'tercero', 'antepenúltimo', 'penúltimo', 'último']\n",
    "print(\"El antepenúltimo elemento\")\n",
    "print(duplicated_number_list[-3])"
   ]
  },
  {
   "attachments": {},
   "cell_type": "markdown",
   "metadata": {},
   "source": [
    "#### Listas multidimensionales\n",
    "Son listas que contienen listas como elementos, para acceder a un elemento interno se agrupan `[ ]` en dependencia de la profundidad de las listas contenidas dentro de listas..."
   ]
  },
  {
   "cell_type": "code",
   "execution_count": 10,
   "metadata": {},
   "outputs": [
    {
     "name": "stdout",
     "output_type": "stream",
     "text": [
      "Accediendo a un elemento de la lista multidimensional\n",
      "Lapiz labial\n",
      "Vestido pink con brilli-brilli\n"
     ]
    }
   ],
   "source": [
    "# Creando una lista multidimensional, añadiendo listas dentro de una lista.\n",
    "utilities = [['Preservativos', 'Lapiz labial', 'Fusta', 'Esposas'], ['Diadema de princesa', 'Vestido pink con brilli-brilli']]\n",
    "  \n",
    "# Accediendo a un elemento de la lista multidimensional\n",
    "print(\"Accediendo a un elemento de la lista multidimensional\")\n",
    "print(utilities[0][1])\n",
    "print(utilities[1][1])"
   ]
  },
  {
   "attachments": {},
   "cell_type": "markdown",
   "metadata": {},
   "source": [
    "#### Métodos más comunes de las listas"
   ]
  },
  {
   "attachments": {},
   "cell_type": "markdown",
   "metadata": {},
   "source": [
    "##### Añadir elementos al final\n",
    "Los elementos pueden ser añadidos al final de una lista con el método `append(data)`, donde `data` es el elemento a insertar en ella."
   ]
  },
  {
   "cell_type": "code",
   "execution_count": 13,
   "metadata": {},
   "outputs": [
    {
     "name": "stdout",
     "output_type": "stream",
     "text": [
      "Lista inicial vacía: \n",
      "[]\n",
      "Lista después de añadir 3 elementos\n",
      "[1, 'plp', 'amaisin']\n",
      "Lista después de la adición de los números del 1 al 3: \n",
      "[1, 'plp', 'amaisin', 1, 2, 3]\n",
      "Lista después de añadirle una lista: \n",
      "[1, 'plp', 'amaisin', 1, 2, 3, ['Candela', 'meriyein']]\n"
     ]
    }
   ],
   "source": [
    "# Creando una lista vacía\n",
    "example_list = []\n",
    "print(\"Lista inicial vacía: \")\n",
    "print(example_list)\n",
    "\n",
    "# Agregando elementos a la lista\n",
    "example_list.append(1)\n",
    "example_list.append('plp')\n",
    "example_list.append('amaisin')\n",
    "print(\"Lista después de añadir 3 elementos\")\n",
    "print(example_list)\n",
    "\n",
    "# Agregando múltiples elementos usando una iteración\n",
    "for i in range(1, 4):\n",
    "    example_list.append(i)\n",
    "print(\"Lista después de la adición de los números del 1 al 3: \")\n",
    "print(example_list)\n",
    "\n",
    "# Addition of List to a List\n",
    "List2 = ['Candela', 'meriyein']\n",
    "example_list.append(List2)\n",
    "print(\"Lista después de añadirle una lista: \")\n",
    "print(example_list)"
   ]
  },
  {
   "attachments": {},
   "cell_type": "markdown",
   "metadata": {},
   "source": [
    "##### Añadir elementos en un índice específico\n",
    "Mientras que `append(data)` añadía elementos al final de la lista, con `insert(index, data)` se puede añadir un elemento a la lista, donde `index` es el índice donde insertar el elemento y `data` es el elemento a insertar en ella."
   ]
  },
  {
   "cell_type": "code",
   "execution_count": 14,
   "metadata": {},
   "outputs": [
    {
     "name": "stdout",
     "output_type": "stream",
     "text": [
      "Lista inicial: [1, 2, 3, 4]\n",
      "Lista después de haber añadido el elemento en el índice 0: ['Hola', 1, 2, 3, 12, 4]\n"
     ]
    }
   ],
   "source": [
    "# Creando una lista\n",
    "example_list = [1, 2, 3, 4]\n",
    "print(f\"Lista inicial: {example_list}\")\n",
    "\n",
    "# Agregando un elemento a la posición específica\n",
    "example_list.insert(3, 12)\n",
    "example_list.insert(0, 'Hola')\n",
    "print(f\"Lista después de haber añadido el elemento en el índice 0: {example_list}\")"
   ]
  },
  {
   "attachments": {},
   "cell_type": "markdown",
   "metadata": {},
   "source": [
    "##### Añadir o extender la lista usando otra lista de elementos\n",
    "\n",
    "Otro método común para añadir elementos es `extend(list)`, donde `list` es una lista de elementos que se quieran agregar a la lista original al final de esta..."
   ]
  },
  {
   "cell_type": "code",
   "execution_count": 16,
   "metadata": {},
   "outputs": [
    {
     "name": "stdout",
     "output_type": "stream",
     "text": [
      "Lista inicial: [1, 2, 3, 4]\n",
      "Lista después de añadir varios elementos: [1, 2, 3, 4, 'candela', 'Meriyein']\n"
     ]
    }
   ],
   "source": [
    "# Creando una lista\n",
    "example_list = [1, 2, 3, 4]\n",
    "print(f\"Lista inicial: {example_list}\")\n",
    "\n",
    "# Agregando múltiples elementos a la lista original\n",
    "example_list.extend(['candela', 'Meriyein'])\n",
    "print(f\"Lista después de añadir varios elementos: {example_list}\")"
   ]
  },
  {
   "attachments": {},
   "cell_type": "markdown",
   "metadata": {},
   "source": [
    "##### Remover elementos de la lista\n",
    "Los elementos de una lista pueden ser removidos usando 3 métodos:\n",
    "- el método `remove(element)` donde `element` es el elemento a borrar; este solo permite remover un elemento a la vez, para eliminar varios elementos se usa un iterador.\n",
    "\n",
    "- el método `pop(index)` donde `index` es el índice del elemento a borrar; este solo permite remover un elemento a la vez y, a diferencia de `remove(element)`, devolverá el elemento borrado.\n",
    "\n",
    "Nótese que si hay más de un elemento coincidente solo se eliminará el primero..."
   ]
  },
  {
   "cell_type": "code",
   "execution_count": 17,
   "metadata": {},
   "outputs": [
    {
     "name": "stdout",
     "output_type": "stream",
     "text": [
      "Lista inicial: [1, 2, 3, 4, 5, 6, 7, 8, 9, 10, 11, 12]\n",
      "Lista después de eliminar varios elementos: [1, 2, 3, 4, 6, 7, 9, 10, 11, 12]\n",
      "Elemento borrado con pop(): 8\n"
     ]
    }
   ],
   "source": [
    "example_list = [1, 2, 3, 4, 5, 6, 7, 8, 9, 10, 11, 12]\n",
    "print(f\"Lista inicial: {example_list}\")\n",
    "\n",
    "# Removiendo elementos usando el método Remove()\n",
    "example_list.remove(5)\n",
    "deleted_element = example_list.pop(6)\n",
    "print(f\"Lista después de eliminar varios elementos: {example_list}\")\n",
    "print(f'Elemento borrado con pop(): {deleted_element}')"
   ]
  },
  {
   "attachments": {},
   "cell_type": "markdown",
   "metadata": {},
   "source": [
    "##### Vaciar lista\n",
    "Se puede vaciar una lista usando el método `clear()`"
   ]
  },
  {
   "cell_type": "code",
   "execution_count": 18,
   "metadata": {},
   "outputs": [
    {
     "name": "stdout",
     "output_type": "stream",
     "text": [
      "Lista inicial: [1, 2, 3, 4, 5, 6, 7, 8, 9, 10, 11, 12]\n",
      "Lista después de vaciada: []\n"
     ]
    }
   ],
   "source": [
    "example_list = [1, 2, 3, 4, 5, 6, 7, 8, 9, 10, 11, 12]\n",
    "print(f\"Lista inicial: {example_list}\")\n",
    "\n",
    "# Removiendo elementos usando el método Remove()\n",
    "example_list.clear()\n",
    "print(f\"Lista después de vaciada: {example_list}\")"
   ]
  },
  {
   "attachments": {},
   "cell_type": "markdown",
   "metadata": {},
   "source": [
    "#### Obtener un trozo de la lista\n",
    "Podemos obtener una parte de la lista usando la operación slice.\n",
    "\n",
    "Esta operación se puede realizar añadiendo corchetes luego de la lista y cumpliendo con esta forma:\n",
    "\n",
    "`list[start:end:step]`\n",
    "\n",
    "Donde:\n",
    "- `start` define el índice de inicio de la selección. Por defecto es 0.\n",
    "- `end` define el índice de final de la selección y NO se incluye ese final. Por defecto es el tamaño de elementos de la lista.\n",
    "- `step` define la cantidad de valores de salto entre elementos a seleccionar. Por defecto será 1, en otras palabras, elementos consecutivos.\n",
    "\n",
    "Nota: tanto `start`, como `end` y `step` pueden estar vacíos.\n",
    "Nota 2: también se pueden usar índices negativos."
   ]
  },
  {
   "cell_type": "code",
   "execution_count": 20,
   "metadata": {},
   "outputs": [
    {
     "name": "stdout",
     "output_type": "stream",
     "text": [
      "Lista de ejemplo:\n",
      "[50, 70, 30, 20, 90, 10, 50]\n",
      "\n",
      "Cuando tanto start, como end y step están vacíos devuelve la misma lista:\n",
      "[50, 70, 30, 20, 90, 10, 50]\n",
      "\n",
      "Obteniendo los elementos desde el índice 2 al 5:\n",
      "[30, 20, 90]\n",
      "\n",
      "Obteniendo elementos pares:\n",
      "[70, 20, 10]\n",
      "\n",
      "Obteniendo elementos impares:\n",
      "[50, 30, 90, 50]\n",
      "\n",
      "Invirtiendo la lista:\n",
      "[50, 10, 90, 20, 30, 70, 50]\n"
     ]
    }
   ],
   "source": [
    "# Creando una lista\n",
    "example_list = [50, 70, 30, 20, 90, 10, 50]\n",
    "print(f'Lista de ejemplo:')\n",
    "print(example_list)\n",
    " \n",
    "# Cuando tanto start, como end y step están vacíos devuelve la misma lista.\n",
    "print(f'\\nCuando tanto start, como end y step están vacíos devuelve la misma lista:')\n",
    "print(example_list[::])\n",
    " \n",
    "# Obteniendo un trozo de la lista.\n",
    "print(f'\\nObteniendo los elementos desde el índice 2 al 5:')\n",
    "print(example_list[2:5])\n",
    " \n",
    "# Usando un step distinto a 1...\n",
    "print(f'\\nObteniendo elementos pares:')\n",
    "print(example_list[1::2])\n",
    "\n",
    "print(f'\\nObteniendo elementos impares:')\n",
    "print(example_list[::2])\n",
    "\n",
    "print(f'\\nInvirtiendo la lista:')\n",
    "print(example_list[::-1])"
   ]
  },
  {
   "attachments": {},
   "cell_type": "markdown",
   "metadata": {},
   "source": [
    "#### Avanzado: Comprensiones de listas\n",
    "\n",
    "Son usadas para crear nuevas listas a partir de otros objetos iterables como tuplas, strings, arrays, lists, sets, etc.\n",
    "\n",
    "Una lista por comprensión consiste en corchetes que contienen una expresión que es ejecutada por cada elemento seguida por un loop for para iterar en cada elemento.\n",
    "\n",
    "La sintaxis para la misma es:\n",
    "`comp_list = [ expression(element) for element in iterable_object if condition ]`\n",
    "\n",
    "Donde:\n",
    "- `expression(element)` es un método o asignación específica que se ejecutará por cada elemento en el objeto a iterar si se cumple la condición dada (en caso de que se dé).\n",
    "- `element` es el elemento de índice del bucle.\n",
    "- `iterable_object` es el objeto a iterar.\n",
    "- `condition` es la condición a cumplir si es necesario, en caso de que se cumpla, se ejecuta la expresión inicial."
   ]
  },
  {
   "cell_type": "code",
   "execution_count": 21,
   "metadata": {},
   "outputs": [
    {
     "name": "stdout",
     "output_type": "stream",
     "text": [
      "[1, 9, 25, 49, 81]\n"
     ]
    }
   ],
   "source": [
    "# Usaremos una lista por comprensión que aloje el valor cuadrado desde 1 a 10 de todos los números impares.\n",
    "\n",
    "square_of_odd_numbers_in_range = [x ** 2 for x in range(1, 11) if x % 2 != 0]\n",
    "print(square_of_odd_numbers_in_range)\n",
    "\n",
    "# Explicación:\n",
    "# En el intervalo [1; 10], se iterará y x tomará el valor de cada uno de los números:\n",
    "# {1, 2, 3, 4, 5, 6, 7, 8, 9, 10}\n",
    "# Si se cumple la condición dada, en este caso por cada número impar que encuentre,\n",
    "# 1, 3, 5, 7, 9 son impares.\n",
    "# ejecutará la expresión o operación dada y el resultado lo añadirá a una nueva lista.\n",
    "# 1*2 = 1\n",
    "# 3*2 = 9\n",
    "# 5*2 = 25\n",
    "# 7*2 = 49\n",
    "# 9*2 = 81\n",
    "# Resultado final: [1, 9, 25, 49, 81]"
   ]
  },
  {
   "attachments": {},
   "cell_type": "markdown",
   "metadata": {},
   "source": [
    "### 🟩Dictionaries (Diccionarios)\n",
    "\n",
    "En Python, un diccionario es una estructura de datos que permite almacenar valores con combinaciones únicas de claves y valores. \n",
    "\n",
    "Es similar a una lista, pero en lugar de usar índices enteros (0, 1, 2, etc.), utiliza claves de cualquier tipo inmutable (como cadenas de texto, números, tuplas, etc.) para acceder a valores asociados. \n",
    "\n",
    "Los diccionarios de Python se definen utilizando llaves `{}` y cada entrada se especifica como una `\"clave: valor\"` separada por una coma.\n",
    "\n",
    "![](dictionary_example.png)"
   ]
  },
  {
   "attachments": {},
   "cell_type": "markdown",
   "metadata": {},
   "source": [
    "#### Instanciación"
   ]
  },
  {
   "cell_type": "code",
   "execution_count": 22,
   "metadata": {},
   "outputs": [
    {
     "name": "stdout",
     "output_type": "stream",
     "text": [
      "definición 2\n"
     ]
    }
   ],
   "source": [
    "# El siguiente código crea un diccionario con 4 entradas:\n",
    "diccionario = {\"Haya\": \"definición 1\", \"Halla\": \"definición 2\", \"Aya\": \"definición 3\", \"Allá\": \"definición 4\"}\n",
    "\n",
    "# Puede ser expresado también como:\n",
    "diccionario = {\n",
    "    \"Haya\": \"definición 1\", \n",
    "    \"Halla\": \"definición 2\", \n",
    "    \"Aya\": \"definición 3\", \n",
    "    \"Allá\": \"definición 4\"\n",
    "    }\n",
    "\n",
    "# Para acceder a un valor en el diccionario, se usa la sintaxis `[clave]` del diccionario, como en el siguiente ejemplo:\n",
    "print(diccionario[\"Halla\"]) # Imprime \"definición 2\""
   ]
  },
  {
   "attachments": {},
   "cell_type": "markdown",
   "metadata": {},
   "source": [
    "#### Utilidad\n",
    "Los diccionarios de Python son muy eficientes para buscar y recuperar valores basados en una clave. Además, permiten agregar, actualizar y eliminar entradas con facilidad."
   ]
  },
  {
   "attachments": {},
   "cell_type": "markdown",
   "metadata": {},
   "source": [
    "### 🟦Stacks (Pilas)\n",
    "\n",
    "Un stack o pila es un tipo de estructura lineal de datos que almacena datos de forma que cualquier elemento que se añada, se apila encima de los elementos que tenga dentro y para poder acceder a un elemento de la pila, hay que sacar primero los que se añadieron después.\n",
    "\n",
    "En resumen, tiene una estructura LIFO -last in/first out- (el último en entrar es el primero en salir) o FILO -first in/last out- (el primero en entrar es el último en salir)\n",
    "\n",
    "![](stack_example.png)"
   ]
  },
  {
   "attachments": {},
   "cell_type": "markdown",
   "metadata": {},
   "source": [
    "#### Implementación\n",
    "\n",
    "Como en Python no se encuentra esta estructura de datos de forma nativa, se necesita implementar.\n",
    "\n",
    "Las operaciones de inserción y borrado de elemento se suelen llamar comunmente `push()` y `pop()`.\n",
    "\n",
    "Los métodos más comunes asociados con una pila son:\n",
    "- `empty()` – devuelve true si el stack está vacío.\n",
    "- `size()` – devuelve el tamaño del stack.\n",
    "- `top()` / `peek()` – retorna la referencia al objeto superior (el último agregado)\n",
    "- `push(a)` – inserta el elemento 'a' en la parte superior del stack.\n",
    "- `pop()` – elimina el elemento superior del stack."
   ]
  },
  {
   "cell_type": "code",
   "execution_count": 23,
   "metadata": {},
   "outputs": [],
   "source": [
    "# Un ejemplo personal de cómo implementaría un Stack.\n",
    "\n",
    "class Stack():\n",
    "    \n",
    "    # Uso una lista como contenedor primitivo.\n",
    "    _data = []\n",
    "\n",
    "    def __init__(self, *elements : list):\n",
    "        self._data = list(elements)\n",
    "        \n",
    "    def empty(self):\n",
    "        return True if len(self._data) == 0 else False\n",
    "\n",
    "    def size(self):\n",
    "        return len(self._data)\n",
    "    \n",
    "    def top(self):\n",
    "        return self._data[-1]\n",
    "    \n",
    "    def peek(self):\n",
    "        return self.top()\n",
    "    \n",
    "    def pop(self):\n",
    "        return self._data.pop()\n",
    "        \n",
    "    def push(self, element):\n",
    "        self._data.append(element)\n",
    "        \n",
    "    def __str__(self):\n",
    "        return str(self._data)\n",
    "\n",
    "    def __len__(self):\n",
    "        return len(self._data)"
   ]
  },
  {
   "attachments": {},
   "cell_type": "markdown",
   "metadata": {},
   "source": [
    "#### Y se usaría de la siguiente forma..."
   ]
  },
  {
   "cell_type": "code",
   "execution_count": 24,
   "metadata": {},
   "outputs": [
    {
     "name": "stdout",
     "output_type": "stream",
     "text": [
      "Instanciando un stack con su clase constructora y sus elementos...\n",
      "['hola', 'adios', '1231', '2451', '666', '3531', '777']\n",
      "\n",
      "Sacando el último elemento:  777\n",
      "\\Stack después de haber sacado el elemento ['hola', 'adios', '1231', '2451', '666', '3531']\n",
      "\n",
      "Elemento que está encima de los demás 3531\n",
      "\n",
      "Incluyendo un nuevo elemento 'oye'\n",
      "\n",
      "Stack después de haber agregado el elemento\n",
      "['hola', 'adios', '1231', '2451', '666', '3531', 'oye']\n"
     ]
    }
   ],
   "source": [
    "print(\"Instanciando un stack con su clase constructora y sus elementos...\")\n",
    "stk = Stack(\"hola\", \"adios\", \"1231\", \"2451\", \"666\", \"3531\", \"777\")\n",
    "print( f\"{stk}\" )\n",
    "\n",
    "print('\\nSacando el último elemento: ', stk.pop() )\n",
    "\n",
    "print('\\Stack después de haber sacado el elemento', stk )\n",
    "\n",
    "print('\\nElemento que está encima de los demás', stk.top() )\n",
    "\n",
    "print('\\nIncluyendo un nuevo elemento', \"'oye'\")\n",
    "stk.push(\"oye\")\n",
    "print('\\nStack después de haber agregado el elemento')\n",
    "\n",
    "print(stk)"
   ]
  },
  {
   "attachments": {},
   "cell_type": "markdown",
   "metadata": {},
   "source": [
    "### 🟪Queues (Colas)\n",
    "Como un stack, este es un tipo de estructura de datos que almacena elementos de la forma FIFO (el primero que entra es el primero que sale).\n",
    "\n",
    "Un buen ejemplo de esto es la cola del pollo 🐓: quien llega primero \"suele\" ser el primero en comprar su paquete de pollo.\n",
    "\n",
    "![](queue_example.png)"
   ]
  },
  {
   "attachments": {},
   "cell_type": "markdown",
   "metadata": {},
   "source": [
    "#### Variantes de implementación\n",
    "\n",
    "Esta estructura de datos se puede implementar por 3 vías:\n",
    "- Usando `list` como contenedor,\n",
    "- usando el objeto `collections.deque`,\n",
    "- usando el objeto `queue.Queue`.\n",
    "\n",
    "Las operaciones más comunes asociadas con una cola son:\n",
    "- `empty()` – devuelve true si la queue está vacía.\n",
    "- `size()` – devuelve la cantidad de elementos en la cola.\n",
    "- `enqueue(a)` – inserta el elemento 'a' al final de la cola.\n",
    "- `dequeue()` – remueve el primer elemento en la cola y lo devuelve.\n",
    "- `front()` – devuelve el elemento que está frente a la cola.\n",
    "- `rear()` – devuelve el elemento que está al final de la cola."
   ]
  },
  {
   "attachments": {},
   "cell_type": "markdown",
   "metadata": {},
   "source": [
    "##### Implementación usando una lista"
   ]
  },
  {
   "cell_type": "code",
   "execution_count": 21,
   "metadata": {},
   "outputs": [],
   "source": [
    "# Un ejemplo personal de cómo implementaría un Queue.\n",
    "\n",
    "class Queue():\n",
    "    \n",
    "    # Uso una lista como contenedor primitivo.\n",
    "    _data = []\n",
    "\n",
    "    def __init__(self, *elements : list):\n",
    "        self._data = list(elements)\n",
    "        \n",
    "    def empty(self):\n",
    "        return True if len(self._data) == 0 else False\n",
    "\n",
    "    def size(self):\n",
    "        return len(self._data)\n",
    "        \n",
    "    def put(self, element):\n",
    "        self._data.append(element)\n",
    "        \n",
    "    def get(self):\n",
    "        return self._data.pop()\n",
    "    \n",
    "    def front(self):\n",
    "        return self._data[0]\n",
    "    \n",
    "    def rear(self):\n",
    "        return self._data[-1]\n",
    "        \n",
    "    def __str__(self):\n",
    "        return str(self._data)\n",
    "\n",
    "    def __len__(self):\n",
    "        return len(self._data)"
   ]
  },
  {
   "attachments": {},
   "cell_type": "markdown",
   "metadata": {},
   "source": [
    "##### Implementación usando collections.deque\n",
    "\n",
    "Se recomienda usar Deque en vez de una implementación con una lista en los casos en los que necesitamos agregar y eliminar elementos rápidamente, ya que la complejidad del tiempo de un deque es O(1) para ambos métodos, mientras que con una lista la complejidad de tiempo es de O(n), así que su tiempo de cómputo sería mayor en dependencia de cuántos elementos tenga dentro."
   ]
  },
  {
   "cell_type": "code",
   "execution_count": 26,
   "metadata": {},
   "outputs": [],
   "source": [
    "# Un ejemplo personal de cómo implementaría un Queue con collections.deque\n",
    "from collections import deque\n",
    "\n",
    "class Queue():\n",
    "    \n",
    "    # Uso un deque como contenedor primitivo.\n",
    "    _data = deque()\n",
    "\n",
    "    def __init__(self, *elements : list):\n",
    "        self._data = deque(elements)\n",
    "        \n",
    "    def empty(self):\n",
    "        return True if len(self._data) == 0 else False\n",
    "\n",
    "    def size(self):\n",
    "        return len(self._data)\n",
    "        \n",
    "    def put(self, element):\n",
    "        self._data.append(element)\n",
    "        \n",
    "    def get(self):\n",
    "        return self._data.popleft()\n",
    "        \n",
    "    def __str__(self):\n",
    "        return str(self._data)\n",
    "    \n",
    "    def __len__(self):\n",
    "        return len(self._data)"
   ]
  },
  {
   "attachments": {},
   "cell_type": "markdown",
   "metadata": {},
   "source": [
    "##### Implementación usando queue.Queue\n",
    "\n",
    "`Queue` es un módulo nativo de Python el cuál se usa para implementar una cola. `queue.Queue(maxsize)` inicializa la variable al tamaño máximo de la cola. Un tamaño máximo de `0` significa que es una cola de infinitos elementos. \n",
    "\n",
    "Esta cola implementa las reglas `FIFO` (el primer elemento en entrar es el primero en salir).\n",
    "\n",
    "Los métodos y propiedades que más se usan de este módulo son:\n",
    "- `maxsize` – número máximo de elementos permitidos en esta cola,\n",
    "- `empty()` – devuelve `True` si la cola está vacía, en caso contrario, `False`,\n",
    "- `full()` – devuelve `True` si la cola está llena, en caso contrario, `False`,\n",
    "- `get()` – devuelve el siguiente elemento en la cola, si la cola está vacía, espera hasta que un elemento esté disponible,\n",
    "- `get_nowait()` – devuelve el siguiente elemento si está disponible en el momento, en caso contrario produce un error `QueueEmpty`,\n",
    "- `put(a)` – añade el elemento 'a' al final de la cola, si la cola está llena, espera hasta que un espacio esté disponible antes de añadir el elemento,\n",
    "- `put_nowait(a)` – añade el elemento 'a' al final de la cola, si la cola está llena, produce un error `QueueFull`,\n",
    "- `qsize()` – devuelve la cantidad de elementos en la cola."
   ]
  },
  {
   "cell_type": "code",
   "execution_count": 22,
   "metadata": {},
   "outputs": [
    {
     "name": "stdout",
     "output_type": "stream",
     "text": [
      "Inicializando la cola\n"
     ]
    }
   ],
   "source": [
    "from queue import Queue\n",
    "\n",
    "# Inicializando un Queue\n",
    "print(\"Inicializando la cola\")\n",
    "q = Queue(maxsize = 3)"
   ]
  },
  {
   "cell_type": "code",
   "execution_count": 3,
   "metadata": {},
   "outputs": [
    {
     "name": "stdout",
     "output_type": "stream",
     "text": [
      "\n",
      "Cantidad de elementos en la cola:\n",
      "0\n",
      "\n",
      "Agregando 3 elementos a la cola...\n",
      "\n",
      "¿Está llena?: True\n",
      "\n",
      "Elementos sacados de la cola:\n",
      "Objeto 1\n",
      "Objeto 2\n",
      "Objeto 3\n",
      "\n",
      "¿Está vacía?:  True\n",
      "\n",
      "Empty:  False\n",
      "Full:  False\n"
     ]
    }
   ],
   "source": [
    "# qsize() nos devuelve el tamaño de elementos en la cola.\n",
    "print(\"\\nCantidad de elementos en la cola:\")\n",
    "print(q.qsize())\n",
    "\n",
    "# Agregando elementos a la cola.\n",
    "print(\"\\nAgregando 3 elementos a la cola...\")\n",
    "q.put('Objeto 1')\n",
    "q.put('Objeto 2')\n",
    "q.put('Objeto 3')\n",
    "\n",
    "# Retornando un booleano verdadero si está llena la cola.\n",
    "print(\"\\n¿Está llena?:\", q.full()) \n",
    "\n",
    "# Removiendo elementos de la cola.\n",
    "print(\"\\nElementos sacados de la cola:\")\n",
    "print(q.get())\n",
    "print(q.get())\n",
    "print(q.get())\n",
    "\n",
    "# Retornando un booleano verdadero si está vacía la cola.\n",
    "print(\"\\n¿Está vacía?: \", q.empty())\n",
    "\n",
    "# Añadiendo un elemento más...\n",
    "q.put(1)\n",
    "print(\"\\nEmpty: \", q.empty()) \n",
    "print(\"Full: \", q.full())"
   ]
  },
  {
   "attachments": {},
   "cell_type": "markdown",
   "metadata": {},
   "source": [
    "### 🟫Deques (Colas de doble extremo)\n",
    "\n",
    "Un deque en Python es una estructura de datos que funciona como una lista doblemente ligada, lo que significa que los elementos se pueden agregar y eliminar tanto al principio como al final de la cola de manera eficiente. La palabra `deque` significa \"double-ended queue\" en inglés, lo que se traduce como \"cola de doble extremo\". \n",
    "\n",
    "Se debe usar `Deque` en vez de `list` en los casos donde necesitemos operaciones rápidas para agregar elementos en los extremos del contenedor, ya que estos para deque tienen una complejidad en tiempo de `O(1)`, mientras que en las listas es de `O(n)`.\n",
    "\n",
    "![](deque_example.png)"
   ]
  },
  {
   "attachments": {},
   "cell_type": "markdown",
   "metadata": {},
   "source": [
    "#### Instanciación\n",
    "Un `deque` se puede crear utilizando la función `deque()` del módulo collections"
   ]
  },
  {
   "cell_type": "code",
   "execution_count": 4,
   "metadata": {},
   "outputs": [],
   "source": [
    "#El siguiente código crea un deque de tres elementos...\n",
    "from collections import deque\n",
    "\n",
    "mi_deque = deque([1, 2, 3])"
   ]
  },
  {
   "attachments": {},
   "cell_type": "markdown",
   "metadata": {},
   "source": [
    "#### Agregando elementos en uno de los extremos\n",
    "Para agregar elementos a un deque, se pueden usar los métodos `append()` y `appendleft()`. \n",
    "El primero agregará un elemento al final del `deque`, mientras que el segundo agregará un elemento al principio del `deque`."
   ]
  },
  {
   "cell_type": "code",
   "execution_count": 5,
   "metadata": {},
   "outputs": [
    {
     "name": "stdout",
     "output_type": "stream",
     "text": [
      "deque([1, 2, 3])\n",
      "deque([0, 1, 2, 3, 4])\n"
     ]
    }
   ],
   "source": [
    "print(mi_deque)\n",
    "\n",
    "mi_deque.append(4) # Agrega el elemento 4 al final del deque\n",
    "mi_deque.appendleft(0) # Agrega el elemento 0 al principio del deque\n",
    "\n",
    "print(mi_deque)"
   ]
  },
  {
   "attachments": {},
   "cell_type": "markdown",
   "metadata": {},
   "source": [
    "#### Removiendo elementos en uno de los extremos\n",
    "Para eliminar elementos de un deque, se pueden usar los métodos `pop()` y `popleft()`. \n",
    "\n",
    "El primero eliminará y devolverá el último elemento del `deque`, mientras que el segundo eliminará y devolverá el primer elemento del `deque`."
   ]
  },
  {
   "cell_type": "code",
   "execution_count": 6,
   "metadata": {},
   "outputs": [
    {
     "name": "stdout",
     "output_type": "stream",
     "text": [
      "deque([0, 1, 2, 3, 4])\n",
      "deque([1, 2, 3])\n"
     ]
    }
   ],
   "source": [
    "print(mi_deque)\n",
    "\n",
    "ultimo_elemento = mi_deque.pop() # Elimina y devuelve el último elemento del deque\n",
    "primer_elemento = mi_deque.popleft() # Elimina y devuelve el primer elemento del deque\n",
    "\n",
    "print(mi_deque)"
   ]
  }
 ],
 "metadata": {
  "kernelspec": {
   "display_name": ".venv",
   "language": "python",
   "name": "python3"
  },
  "language_info": {
   "codemirror_mode": {
    "name": "ipython",
    "version": 3
   },
   "file_extension": ".py",
   "mimetype": "text/x-python",
   "name": "python",
   "nbconvert_exporter": "python",
   "pygments_lexer": "ipython3",
   "version": "3.10.10"
  },
  "orig_nbformat": 4
 },
 "nbformat": 4,
 "nbformat_minor": 2
}
